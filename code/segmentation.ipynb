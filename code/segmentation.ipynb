{
 "cells": [
  {
   "cell_type": "code",
   "execution_count": null,
   "metadata": {},
   "outputs": [],
   "source": [
    "# Modules\n",
    "from scipy import ndimage\n",
    "import numpy as np\n",
    "from PIL import Image, ImageFilter, ImageOps, ImageChops, ImageEnhance, ImageStat\n",
    "from __future__ import print_function\n",
    "import glob\n",
    "\n",
    "from __future__ import division, print_function\n",
    "%matplotlib inline\n",
    "import matplotlib.pyplot as plt\n",
    "import matplotlib\n",
    "import re\n",
    "\n",
    "import sys\n",
    "import datetime\n",
    "import random\n",
    "import warnings\n",
    "\n",
    "\n",
    "# Functions\n",
    "sys.path.insert(0, './helpers/')\n",
    "from helpers import *\n",
    "from model_unet import *\n",
    "\n",
    "# Autoreload\n",
    "%load_ext autoreload\n",
    "%autoreload 2\n",
    "\n",
    "# Set random seed\n",
    "np.random.seed(1)"
   ]
  },
  {
   "cell_type": "code",
   "execution_count": null,
   "metadata": {},
   "outputs": [],
   "source": [
    "# Loads all data images in a list\n",
    "filelist = glob.glob(\"../randomized_data/train/data_*.tiff\")\n",
    "\n",
    "# Sort the list according the their names \n",
    "# so that the the image and labels are on \n",
    "# the same position\n",
    "\n",
    "def natural_keys(text):\n",
    "    '''\n",
    "    alist.sort(key=natural_keys) sorts in human order\n",
    "    http://nedbatchelder.com/blog/200712/human_sorting.html\n",
    "    (See Toothy's implementation in the comments)\n",
    "    '''\n",
    "    def atoi(text):\n",
    "        return int(text) if text.isdigit() else text\n",
    "    \n",
    "    return [ atoi(c) for c in re.split('(\\d+)', text) ]\n",
    "\n",
    "filelist.sort(key=natural_keys)\n",
    "\n",
    "data =   [np.array(Image.open(fname).resize((256,256)), dtype=int) for fname in filelist if fname[-9:-5] != 'mask']\n",
    "\n",
    "labels = [np.array(Image.open(fname).resize((256,256)), dtype=int) for fname in filelist if fname[-9:-5] == 'mask']\n",
    "\n",
    "for lab in labels:\n",
    "    \n",
    "    lab[lab == 0] = 1\n",
    "    lab[lab == 255] = 0\n",
    "    \n",
    "filelist = glob.glob(\"../randomized_data/test/data_*.tiff\")\n",
    "\n",
    "filelist.sort(key=natural_keys)\n",
    "\n",
    "data_test =   [np.array(Image.open(fname).resize((256,256)), dtype=int) for fname in filelist if fname[-9:-5] != 'mask']\n",
    "\n",
    "labels_test = [np.array(Image.open(fname).resize((256,256)), dtype=int) for fname in filelist if fname[-9:-5] == 'mask']\n",
    "\n",
    "for lab in labels_test:\n",
    "    \n",
    "    lab[lab == 0] = 1\n",
    "    lab[lab == 255] = 0"
   ]
  },
  {
   "cell_type": "code",
   "execution_count": null,
   "metadata": {
    "scrolled": true
   },
   "outputs": [],
   "source": [
    "labels = np.array(labels, dtype=int)\n",
    "data = np.array(data, dtype=int)\n",
    "labels_test = np.array(labels_test, dtype=int)\n",
    "data_test = np.array(data_test, dtype=int)\n",
    "\n",
    "labels = np.reshape(labels, (1888,256,256,1))\n",
    "data = np.reshape(data, (1888,256,256,1))\n",
    "labels_test = np.reshape(labels_test, (480,256,256,1))\n",
    "data_test = np.reshape(data_test, (480,256,256,1))\n",
    "print(labels_test.shape)\n",
    "print(labels.shape)\n",
    "print(data.shape)\n",
    "print(data_test.shape)"
   ]
  },
  {
   "cell_type": "code",
   "execution_count": null,
   "metadata": {},
   "outputs": [],
   "source": [
    "model = model_unet()\n",
    "model_checkpoint = ModelCheckpoint('unet_membrane.hdf5', monitor='loss',verbose=1, save_best_only=True)\n",
    "model.fit(data, labels, batch_size=2, nb_epoch=10, verbose=1,validation_split=0.2, shuffle=True, callbacks=[model_checkpoint])"
   ]
  },
  {
   "cell_type": "code",
   "execution_count": null,
   "metadata": {},
   "outputs": [],
   "source": []
  },
  {
   "cell_type": "code",
   "execution_count": null,
   "metadata": {},
   "outputs": [],
   "source": []
  }
 ],
 "metadata": {
  "kernelspec": {
   "display_name": "Python 3",
   "language": "python",
   "name": "python3"
  },
  "language_info": {
   "codemirror_mode": {
    "name": "ipython",
    "version": 3
   },
   "file_extension": ".py",
   "mimetype": "text/x-python",
   "name": "python",
   "nbconvert_exporter": "python",
   "pygments_lexer": "ipython3",
   "version": "3.6.5"
  }
 },
 "nbformat": 4,
 "nbformat_minor": 2
}
