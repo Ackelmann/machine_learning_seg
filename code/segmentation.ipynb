{
 "cells": [
  {
   "cell_type": "code",
   "execution_count": 23,
   "metadata": {},
   "outputs": [
    {
     "name": "stdout",
     "output_type": "stream",
     "text": [
      "The autoreload extension is already loaded. To reload it, use:\n",
      "  %reload_ext autoreload\n"
     ]
    }
   ],
   "source": [
    "# Modules\n",
    "from scipy import ndimage\n",
    "import numpy as np\n",
    "from PIL import Image, ImageFilter, ImageOps, ImageChops, ImageEnhance, ImageStat\n",
    "from __future__ import print_function\n",
    "import glob\n",
    "from tf_unet import unet, util, image_util\n",
    "\n",
    "\n",
    "from __future__ import division, print_function\n",
    "%matplotlib inline\n",
    "import matplotlib.pyplot as plt\n",
    "import matplotlib\n",
    "\n",
    "import sys\n",
    "import datetime\n",
    "import random\n",
    "import warnings\n",
    "\n",
    "\n",
    "# Functions\n",
    "sys.path.insert(0, './helpers/')\n",
    "from helpers import *\n",
    "\n",
    "# Autoreload\n",
    "%load_ext autoreload\n",
    "%autoreload 2\n",
    "\n",
    "# Set random seed\n",
    "np.random.seed(1)"
   ]
  },
  {
   "cell_type": "code",
   "execution_count": null,
   "metadata": {},
   "outputs": [],
   "source": [
    "#preparing data loading\n",
    "data_provider = image_util.ImageDataProvider(\"../randomized_data/train/*.tiff\")\n",
    "\n",
    "#setup & training\n",
    "net = unet.Unet(layers=3, features_root=32, channels=1, n_class=2)\n",
    "trainer = unet.Trainer(net)\n",
    "path = trainer.train(data_provider, \"../randomized_data/result\", training_iters=10, epochs=20)\n",
    "\n",
    "#verification\n",
    "..."
   ]
  },
  {
   "cell_type": "code",
   "execution_count": 30,
   "metadata": {
    "scrolled": true
   },
   "outputs": [
    {
     "name": "stdout",
     "output_type": "stream",
     "text": [
      "INFO:tensorflow:Restoring parameters from ../randomized_data/result\\model.ckpt\n"
     ]
    },
    {
     "name": "stderr",
     "output_type": "stream",
     "text": [
      "2018-11-19 21:47:03,326 Restoring parameters from ../randomized_data/result\\model.ckpt\n",
      "2018-11-19 21:47:21,049 Model restored from file: ../randomized_data/result\\model.ckpt\n"
     ]
    }
   ],
   "source": [
    "data, label = data_provider(1)\n",
    "prediction = net.predict(path, data)"
   ]
  },
  {
   "cell_type": "code",
   "execution_count": null,
   "metadata": {},
   "outputs": [],
   "source": [
    "fig, ax = plt.subplots(1, 3, sharex=True, sharey=True, figsize=(12,5))\n",
    "ax[0].imshow(data[0,...,0], aspect=\"auto\")\n",
    "ax[1].imshow(label[0,...,1], aspect=\"auto\")\n",
    "mask = prediction[0,...,1] > 0.5\n",
    "ax[2].imshow(mask, aspect=\"auto\")\n",
    "ax[0].set_title(\"Input\")\n",
    "ax[1].set_title(\"Ground truth\")\n",
    "ax[2].set_title(\"Prediction\")\n",
    "fig.tight_layout()"
   ]
  },
  {
   "cell_type": "code",
   "execution_count": null,
   "metadata": {},
   "outputs": [],
   "source": []
  },
  {
   "cell_type": "code",
   "execution_count": null,
   "metadata": {},
   "outputs": [],
   "source": []
  },
  {
   "cell_type": "code",
   "execution_count": null,
   "metadata": {},
   "outputs": [],
   "source": []
  }
 ],
 "metadata": {
  "kernelspec": {
   "display_name": "Python 3",
   "language": "python",
   "name": "python3"
  },
  "language_info": {
   "codemirror_mode": {
    "name": "ipython",
    "version": 3
   },
   "file_extension": ".py",
   "mimetype": "text/x-python",
   "name": "python",
   "nbconvert_exporter": "python",
   "pygments_lexer": "ipython3",
   "version": "3.6.5"
  }
 },
 "nbformat": 4,
 "nbformat_minor": 2
}
