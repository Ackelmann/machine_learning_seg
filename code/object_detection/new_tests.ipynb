{
 "cells": [
  {
   "cell_type": "code",
   "execution_count": 1,
   "metadata": {},
   "outputs": [
    {
     "name": "stdout",
     "output_type": "stream",
     "text": [
      "WARNING:tensorflow:From <ipython-input-1-83dae3b968df>:8: FastGFile.__init__ (from tensorflow.python.platform.gfile) is deprecated and will be removed in a future version.\n",
      "Instructions for updating:\n",
      "Use tf.gfile.GFile.\n"
     ]
    }
   ],
   "source": [
    "import numpy as np\n",
    "import tensorflow as tf\n",
    "from PIL import Image\n",
    "import cv2 as cv\n",
    "import os\n",
    "\n",
    "# Read the frozen inference graph\n",
    "with tf.gfile.FastGFile('cells_graph_3/frozen_inference_graph.pb', 'rb') as f:\n",
    "    graph_def = tf.GraphDef()\n",
    "    graph_def.ParseFromString(f.read())\n",
    "\n",
    "# list paths of images to be boxed\n",
    "\n",
    "names = []\n",
    "image_paths = []\n",
    "for path in os.listdir('test_images/'):\n",
    "    if path.endswith('jpg'):\n",
    "        names.append(path[:-4])\n",
    "        image_paths.append('test_images/' + path)\n",
    "\n",
    "# load images as PIL Image objects into list\n",
    "images = []\n",
    "images_cv = []\n",
    "for path in image_paths:\n",
    "    images.append(Image.open(path)) # image for bbox prediction\n",
    "    images_cv.append(cv.imread(path)) # image to set rectangles on\n",
    "    \n",
    "# image = Image.open('test_images/image5.jpg')\n",
    "# image1 = cv.imread('test_images/image5.jpg') # image to put rectangles on"
   ]
  },
  {
   "cell_type": "code",
   "execution_count": 2,
   "metadata": {
    "scrolled": true
   },
   "outputs": [
    {
     "name": "stdout",
     "output_type": "stream",
     "text": [
      "1024 1024\n",
      "yay\n",
      "1024 1024\n",
      "yay\n",
      "1024 1024\n",
      "yay\n",
      "1024 1024\n",
      "yay\n",
      "1024 1024\n",
      "yay\n"
     ]
    }
   ],
   "source": [
    "with tf.Session() as sess:\n",
    "    # Restore session\n",
    "    sess.graph.as_default()\n",
    "    tf.import_graph_def(graph_def, name='')\n",
    "\n",
    "    def load_image_into_numpy_array(image):\n",
    "        (im_width, im_height) = image.size\n",
    "        print(im_width, im_height)\n",
    "        if len(np.array(image.getdata()).shape) != 2:\n",
    "            print('yay')\n",
    "            return np.stack((image.getdata(),)*3, axis=-1).reshape((im_height, im_width, 3)).astype(np.uint8)\n",
    "            # \n",
    "        else:\n",
    "            return np.array(image.getdata()).reshape((im_height, im_width, 3)).astype(np.uint8)\n",
    "    \n",
    "    for image, image1, name in zip(images, images_cv, names):\n",
    "        os.mkdir('coordinates/{}'.format(name)) # make new folder for each image name\n",
    "        text_file = open('coordinates/{}.txt'.format(name), 'w') # initate text file\n",
    "        inp = load_image_into_numpy_array(image)\n",
    "\n",
    "        # Run the model\n",
    "        out = sess.run([sess.graph.get_tensor_by_name('num_detections:0'),\n",
    "                        sess.graph.get_tensor_by_name('detection_scores:0'),\n",
    "                        sess.graph.get_tensor_by_name('detection_boxes:0'),\n",
    "                        sess.graph.get_tensor_by_name('detection_classes:0')],\n",
    "                       feed_dict={'image_tensor:0': inp.reshape(1, inp.shape[0], inp.shape[1], 3)})\n",
    "\n",
    "        # Set up plotting of bounding boxes.\n",
    "        # cropped_imgs = [] # coordinates of boxes in list for individidual boxes\n",
    "        num_detections = int(out[0][0])\n",
    "        for i in range(num_detections):\n",
    "            classId = int(out[3][0][i])\n",
    "            score = float(out[1][0][i])\n",
    "            bbox = [float(v) for v in out[2][0][i]]\n",
    "            if score > 0.2:\n",
    "                x = bbox[1] * image.size[1]\n",
    "                y = bbox[0] * image.size[0]\n",
    "                right = bbox[3] * image.size[1]\n",
    "                bottom = bbox[2] * image.size[0]\n",
    "                # cropped_imgs.append([int(x), int(y), int(right), int(bottom)])\n",
    "                cropped_image = [str(int(x)), str(int(y)),\n",
    "                                 str(int(right)), str(int(bottom))]\n",
    "                text_file.write(str(i) + ' ')\n",
    "                for coord in cropped_image:\n",
    "                    text_file.write(coord + ' ')\n",
    "                text_file.write('\\n')\n",
    "                text_file_1 = open('coordinates/{}/{}.txt'.format(name,i), 'w')\n",
    "                text_file_1.write('{}\\n'.format(i))\n",
    "                text_file_1.write('{}, {}'.format(int(bottom - y), int(right - x)))\n",
    "                crop = image.crop(tuple([int(x), int(y), int(right), int(bottom)]))\n",
    "                new_im = Image.new(\"L\", (256, 256))\n",
    "                new_im.paste(crop)\n",
    "                new_im.save('coordinates/{}/{}.jpg'.format(name, i))\n",
    "                # print(type(crop))\n",
    "                # crops.append(crop)\n",
    "                cv.rectangle(image1, (int(x), int(y)), (int(right), int(bottom)), (125, 255, 51), thickness=2)\n",
    "                \n",
    "        text_file.close()\n",
    "        cv.imshow('TensorFlow Prediction', image1)\n",
    "        cv.waitKey(0)\n",
    "        cv.destroyAllWindows()\n"
   ]
  },
  {
   "cell_type": "code",
   "execution_count": null,
   "metadata": {},
   "outputs": [],
   "source": [
    "cropped_imgs"
   ]
  },
  {
   "cell_type": "code",
   "execution_count": null,
   "metadata": {},
   "outputs": [],
   "source": [
    "image.size"
   ]
  },
  {
   "cell_type": "code",
   "execution_count": null,
   "metadata": {},
   "outputs": [],
   "source": [
    "cv.imshow('TensorFlow Prediction', image1)"
   ]
  },
  {
   "cell_type": "code",
   "execution_count": null,
   "metadata": {},
   "outputs": [],
   "source": []
  }
 ],
 "metadata": {
  "kernelspec": {
   "display_name": "Python 3",
   "language": "python",
   "name": "python3"
  },
  "language_info": {
   "codemirror_mode": {
    "name": "ipython",
    "version": 3
   },
   "file_extension": ".py",
   "mimetype": "text/x-python",
   "name": "python",
   "nbconvert_exporter": "python",
   "pygments_lexer": "ipython3",
   "version": "3.6.6"
  }
 },
 "nbformat": 4,
 "nbformat_minor": 2
}
