{
 "cells": [
  {
   "cell_type": "markdown",
   "metadata": {},
   "source": [
    "Modules and .py files\n",
    "==="
   ]
  },
  {
   "cell_type": "code",
   "execution_count": 1,
   "metadata": {},
   "outputs": [],
   "source": [
    "# Modules\n",
    "from scipy import ndimage\n",
    "import numpy as np\n",
    "from PIL import Image, ImageFilter, ImageOps, ImageChops, ImageEnhance, ImageStat\n",
    "from __future__ import print_function\n",
    "import glob\n",
    "from skimage import data, color, io, img_as_float\n",
    "\n",
    "import sys\n",
    "import datetime\n",
    "import random\n",
    "import warnings\n",
    "import matplotlib.pyplot as plt\n",
    "import matplotlib\n",
    "\n",
    "# Functions\n",
    "sys.path.insert(0, './helpers/')\n",
    "from helpers import *\n",
    "\n",
    "# Autoreload\n",
    "%load_ext autoreload\n",
    "%autoreload 2\n",
    "\n",
    "# Set random seed\n",
    "np.random.seed(1)"
   ]
  },
  {
   "cell_type": "markdown",
   "metadata": {},
   "source": [
    "Data loading\n",
    "==="
   ]
  },
  {
   "cell_type": "code",
   "execution_count": 2,
   "metadata": {},
   "outputs": [],
   "source": [
    "data, labels = load_data()"
   ]
  },
  {
   "cell_type": "markdown",
   "metadata": {},
   "source": [
    "Data splitting\n",
    "==="
   ]
  },
  {
   "cell_type": "code",
   "execution_count": 3,
   "metadata": {},
   "outputs": [],
   "source": [
    "X_train, y_train, X_test, y_test, idx_shuffled = split_data(data, labels)"
   ]
  },
  {
   "cell_type": "markdown",
   "metadata": {},
   "source": [
    "Preprocessing\n",
    "==="
   ]
  },
  {
   "cell_type": "code",
   "execution_count": 4,
   "metadata": {},
   "outputs": [
    {
     "name": "stdout",
     "output_type": "stream",
     "text": [
      "Preprocessing on the training images : \n",
      "Applying edge-smoothing to the labels\n",
      "Edge-smoothing of labels - Done\n",
      "Performing illumination correction on images\n",
      "Illumination correction - Done\n",
      "Normalizing\n",
      "Normalization - Done\n",
      "Performing cropping\n",
      "First quadrant cropping\n",
      "Second quadrant cropping\n",
      "Third quadrant cropping\n",
      "Fourth quadrant cropping\n",
      "Cropping - Done\n",
      "Performing rotations\n",
      "90° Rotation\n",
      "180° Rotation\n",
      "270° Rotation\n",
      "Rotations - Done\n",
      "\n",
      "\n",
      "Preprocessing on the testing images : \n",
      "Applying edge-smoothing to the labels\n",
      "Edge-smoothing of labels - Done\n",
      "Performing illumination correction on images\n",
      "Illumination correction - Done\n",
      "Normalizing\n",
      "Normalization - Done\n",
      "Performing cropping\n",
      "First quadrant cropping\n",
      "Second quadrant cropping\n",
      "Third quadrant cropping\n",
      "Fourth quadrant cropping\n",
      "Cropping - Done\n",
      "Performing rotations\n",
      "90° Rotation\n",
      "180° Rotation\n",
      "270° Rotation\n",
      "Rotations - Done\n"
     ]
    }
   ],
   "source": [
    "print(\"Preprocessing on the training images : \")\n",
    "data_tr, labels_tr = preprocessing(X_train, y_train)\n",
    "\n",
    "print(\"\\n\")\n",
    "\n",
    "print(\"Preprocessing on the testing images : \")\n",
    "data_ts, labels_ts = preprocessing(X_test, y_test)"
   ]
  },
  {
   "cell_type": "code",
   "execution_count": null,
   "metadata": {},
   "outputs": [],
   "source": []
  },
  {
   "cell_type": "markdown",
   "metadata": {},
   "source": [
    "Saving data\n",
    "==="
   ]
  },
  {
   "cell_type": "code",
   "execution_count": 5,
   "metadata": {},
   "outputs": [],
   "source": [
    "save_data(data_tr, labels_tr, True)\n",
    "save_data(data_ts, labels_ts, False)"
   ]
  }
 ],
 "metadata": {
  "kernelspec": {
   "display_name": "Python 3",
   "language": "python",
   "name": "python3"
  },
  "language_info": {
   "codemirror_mode": {
    "name": "ipython",
    "version": 3
   },
   "file_extension": ".py",
   "mimetype": "text/x-python",
   "name": "python",
   "nbconvert_exporter": "python",
   "pygments_lexer": "ipython3",
   "version": "3.7.0"
  }
 },
 "nbformat": 4,
 "nbformat_minor": 2
}
